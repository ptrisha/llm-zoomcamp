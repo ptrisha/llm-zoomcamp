{
 "cells": [
  {
   "cell_type": "markdown",
   "id": "72b3722f-fef2-466c-9acd-cf15216882a7",
   "metadata": {},
   "source": [
    "### Homework 2\n",
    "\n",
    "#### Q6. Serving Gemma:2b with Ollama and OpenAI"
   ]
  },
  {
   "cell_type": "code",
   "execution_count": 1,
   "id": "0599013a-c6c8-488f-a3f8-485a1c53ca46",
   "metadata": {},
   "outputs": [],
   "source": [
    "from openai import OpenAI\n",
    "\n",
    "client = OpenAI(\n",
    "    base_url='http://localhost:11434/v1/',\n",
    "    api_key='ollama',\n",
    ")"
   ]
  },
  {
   "cell_type": "code",
   "execution_count": 2,
   "id": "e0b5907d-b959-4bf5-991d-93ed4010f0b5",
   "metadata": {},
   "outputs": [],
   "source": [
    "def llm(prompt):\n",
    "    response = client.chat.completions.create(\n",
    "        model='gemma:2b',\n",
    "        messages=[{\"role\": \"user\", \"content\": prompt}],\n",
    "        temperature=0.0\n",
    "    )\n",
    "    \n",
    "    return response.choices[0].message.content"
   ]
  },
  {
   "cell_type": "code",
   "execution_count": 3,
   "id": "882dc39c-f589-4157-8440-cdf12840088c",
   "metadata": {},
   "outputs": [],
   "source": [
    "prompt = \"What's the formula for energy?\""
   ]
  },
  {
   "cell_type": "code",
   "execution_count": 4,
   "id": "20cf92d8-595d-4ba5-bdfb-cbe821f3c758",
   "metadata": {},
   "outputs": [
    {
     "data": {
      "text/plain": [
       "\"Sure, here's the formula for energy:\\n\\n**E = K + U**\\n\\nWhere:\\n\\n* **E** is the energy in joules (J)\\n* **K** is the kinetic energy in joules (J)\\n* **U** is the potential energy in joules (J)\\n\\n**Kinetic energy (K)** is the energy an object possesses when it moves or is in motion. It is calculated as half the product of an object's mass (m) and its velocity (v) squared:\\n\\n**K = 1/2mv^2**\\n\\n**Potential energy (U)** is the energy an object possesses due to its position or configuration. It is calculated as the product of an object's mass, gravitational constant (g), and height or position above a reference point.\\n\\n**U = mgh**\\n\\nWhere:\\n\\n* **m** is the mass in kilograms (kg)\\n* **g** is the gravitational constant (9.8 m/s^2)\\n* **h** is the height or position in meters (m)\\n\\nThe formula shows that energy can be expressed as the sum of kinetic and potential energy. The kinetic energy is a measure of the object's ability to do work, while the potential energy is a measure of the object's ability to do work against a force.\""
      ]
     },
     "execution_count": 4,
     "metadata": {},
     "output_type": "execute_result"
    }
   ],
   "source": [
    "response_completion = llm(prompt)\n",
    "\n",
    "response_completion"
   ]
  },
  {
   "cell_type": "code",
   "execution_count": 5,
   "id": "e6dc87a2-d51d-4ee4-93fd-28b730d55bb8",
   "metadata": {},
   "outputs": [
    {
     "name": "stdout",
     "output_type": "stream",
     "text": [
      "Sure, here's the formula for energy:\n",
      "\n",
      "**E = K + U**\n",
      "\n",
      "Where:\n",
      "\n",
      "* **E** is the energy in joules (J)\n",
      "* **K** is the kinetic energy in joules (J)\n",
      "* **U** is the potential energy in joules (J)\n",
      "\n",
      "**Kinetic energy (K)** is the energy an object possesses when it moves or is in motion. It is calculated as half the product of an object's mass (m) and its velocity (v) squared:\n",
      "\n",
      "**K = 1/2mv^2**\n",
      "\n",
      "**Potential energy (U)** is the energy an object possesses due to its position or configuration. It is calculated as the product of an object's mass, gravitational constant (g), and height or position above a reference point.\n",
      "\n",
      "**U = mgh**\n",
      "\n",
      "Where:\n",
      "\n",
      "* **m** is the mass in kilograms (kg)\n",
      "* **g** is the gravitational constant (9.8 m/s^2)\n",
      "* **h** is the height or position in meters (m)\n",
      "\n",
      "The formula shows that energy can be expressed as the sum of kinetic and potential energy. The kinetic energy is a measure of the object's ability to do work, while the potential energy is a measure of the object's ability to do work against a force.\n"
     ]
    }
   ],
   "source": [
    "print(_)"
   ]
  },
  {
   "cell_type": "code",
   "execution_count": 6,
   "id": "fa3794ec-2fe6-4a57-9667-46d9604a714c",
   "metadata": {},
   "outputs": [
    {
     "name": "stdout",
     "output_type": "stream",
     "text": [
      "Requirement already satisfied: transformers in /usr/local/python/3.10.13/lib/python3.10/site-packages (4.42.3)\n",
      "Requirement already satisfied: filelock in /home/codespace/.local/lib/python3.10/site-packages (from transformers) (3.14.0)\n",
      "Requirement already satisfied: huggingface-hub<1.0,>=0.23.2 in /usr/local/python/3.10.13/lib/python3.10/site-packages (from transformers) (0.23.4)\n",
      "Requirement already satisfied: numpy<2.0,>=1.17 in /home/codespace/.local/lib/python3.10/site-packages (from transformers) (1.26.4)\n",
      "Requirement already satisfied: packaging>=20.0 in /home/codespace/.local/lib/python3.10/site-packages (from transformers) (24.0)\n",
      "Requirement already satisfied: pyyaml>=5.1 in /home/codespace/.local/lib/python3.10/site-packages (from transformers) (6.0.1)\n",
      "Requirement already satisfied: regex!=2019.12.17 in /usr/local/python/3.10.13/lib/python3.10/site-packages (from transformers) (2024.5.15)\n",
      "Requirement already satisfied: requests in /home/codespace/.local/lib/python3.10/site-packages (from transformers) (2.32.3)\n",
      "Requirement already satisfied: safetensors>=0.4.1 in /usr/local/python/3.10.13/lib/python3.10/site-packages (from transformers) (0.4.3)\n",
      "Requirement already satisfied: tokenizers<0.20,>=0.19 in /usr/local/python/3.10.13/lib/python3.10/site-packages (from transformers) (0.19.1)\n",
      "Requirement already satisfied: tqdm>=4.27 in /usr/local/python/3.10.13/lib/python3.10/site-packages (from transformers) (4.66.4)\n",
      "Requirement already satisfied: fsspec>=2023.5.0 in /home/codespace/.local/lib/python3.10/site-packages (from huggingface-hub<1.0,>=0.23.2->transformers) (2024.5.0)\n",
      "Requirement already satisfied: typing-extensions>=3.7.4.3 in /home/codespace/.local/lib/python3.10/site-packages (from huggingface-hub<1.0,>=0.23.2->transformers) (4.12.0)\n",
      "Requirement already satisfied: charset-normalizer<4,>=2 in /home/codespace/.local/lib/python3.10/site-packages (from requests->transformers) (3.3.2)\n",
      "Requirement already satisfied: idna<4,>=2.5 in /home/codespace/.local/lib/python3.10/site-packages (from requests->transformers) (3.7)\n",
      "Requirement already satisfied: urllib3<3,>=1.21.1 in /usr/local/python/3.10.13/lib/python3.10/site-packages (from requests->transformers) (2.0.7)\n",
      "Requirement already satisfied: certifi>=2017.4.17 in /home/codespace/.local/lib/python3.10/site-packages (from requests->transformers) (2024.2.2)\n"
     ]
    }
   ],
   "source": [
    "!pip install transformers"
   ]
  },
  {
   "cell_type": "code",
   "execution_count": 7,
   "id": "30b3a394-3461-41ba-aa0f-b6189c6809c0",
   "metadata": {},
   "outputs": [
    {
     "name": "stderr",
     "output_type": "stream",
     "text": [
      "/usr/local/python/3.10.13/lib/python3.10/site-packages/tqdm/auto.py:21: TqdmWarning: IProgress not found. Please update jupyter and ipywidgets. See https://ipywidgets.readthedocs.io/en/stable/user_install.html\n",
      "  from .autonotebook import tqdm as notebook_tqdm\n"
     ]
    }
   ],
   "source": [
    "from transformers import AutoTokenizer, AutoModelForCausalLM\n",
    "\n",
    "tokenizer = AutoTokenizer.from_pretrained(\"google/gemma-2b\")\n",
    "#model = AutoModelForCausalLM.from_pretrained(\"google/gemma-2b\")\n",
    "\n",
    "#input_text = \"Write me a poem about Machine Learning.\"\n",
    "#input_ids = tokenizer(input_text, return_tensors=\"pt\")\n",
    "\n",
    "#outputs = model.generate(**input_ids)\n",
    "#print(tokenizer.decode(outputs[0]))\n",
    "\n"
   ]
  },
  {
   "cell_type": "code",
   "execution_count": 8,
   "id": "53a8026f-d3f1-4b80-a3ad-ebb57d886acc",
   "metadata": {},
   "outputs": [
    {
     "data": {
      "text/plain": [
       "{'input_ids': tensor([[     2,  21404, 235269,   1517, 235303, 235256,    573,  10513,    604,\n",
       "           4134, 235292,    109,    688, 235291,    589,    747,    963,    752,\n",
       "            688,    109,   6006, 235292,    109, 235287,   5231, 235291,    688,\n",
       "            603,    573,   4134,    575,  12808,    982,    591, 235338, 235275,\n",
       "            108, 235287,   5231, 235333,    688,    603,    573,  45517,   4134,\n",
       "            575,  12808,    982,    591, 235338, 235275,    108, 235287,   5231,\n",
       "         235327,    688,    603,    573,   5736,   4134,    575,  12808,    982,\n",
       "            591, 235338, 235275,    109,    688, 157488,   4134,    591, 235333,\n",
       "          77056,    603,    573,   4134,    671,   4018,  53043,   1185,    665,\n",
       "          14574,    689,    603,    575,   8252, 235265,   1165,    603,  11985,\n",
       "            685,   3933,    573,   3225,    576,    671,   4018, 235303, 235256,\n",
       "           5182,    591, 235262, 235275,    578,   1277,  13892,    591, 235272,\n",
       "         235275,  43858, 235292,    109,    688, 235333,    589, 235248, 235274,\n",
       "         235283, 235284,  21207, 235393, 235284,    688,    109,    688,  46472,\n",
       "           4134,    591, 235327,  77056,    603,    573,   4134,    671,   4018,\n",
       "          53043,   3402,    577,   1277,   3668,    689,  12199, 235265,   1165,\n",
       "            603,  11985,    685,    573,   3225,    576,    671,   4018, 235303,\n",
       "         235256,   5182, 235269,  70876,   6221,    591, 235264,    823,    578,\n",
       "           5721,    689,   3668,   3131,    476,   6203,   2377, 235265,    109,\n",
       "            688, 235327,    589,    519,    628,    688,    109,   6006, 235292,\n",
       "            109, 235287,   5231, 235262,    688,    603,    573,   5182,    575,\n",
       "          97063,    591,   6482, 235275,    108, 235287,   5231, 235264,    688,\n",
       "            603,    573,  70876,   6221,    591, 235315, 235265, 235321,    519,\n",
       "         235283, 235256, 235393, 235284, 235275,    108, 235287,   5231, 235259,\n",
       "            688,    603,    573,   5721,    689,   3668,    575,  18678,    591,\n",
       "         235262, 235275,    109,    651,  10513,   4918,    674,   4134,    798,\n",
       "            614,  10862,    685,    573,   2707,    576,  45517,    578,   5736,\n",
       "           4134, 235265,    714,  45517,   4134,    603,    476,   4015,    576,\n",
       "            573,   4018, 235303, 235256,   7374,    577,    749,   1160, 235269,\n",
       "           2183,    573,   5736,   4134,    603,    476,   4015,    576,    573,\n",
       "           4018, 235303, 235256,   7374,    577,    749,   1160,   2691,    476,\n",
       "           5097, 235265]]), 'attention_mask': tensor([[1, 1, 1, 1, 1, 1, 1, 1, 1, 1, 1, 1, 1, 1, 1, 1, 1, 1, 1, 1, 1, 1, 1, 1,\n",
       "         1, 1, 1, 1, 1, 1, 1, 1, 1, 1, 1, 1, 1, 1, 1, 1, 1, 1, 1, 1, 1, 1, 1, 1,\n",
       "         1, 1, 1, 1, 1, 1, 1, 1, 1, 1, 1, 1, 1, 1, 1, 1, 1, 1, 1, 1, 1, 1, 1, 1,\n",
       "         1, 1, 1, 1, 1, 1, 1, 1, 1, 1, 1, 1, 1, 1, 1, 1, 1, 1, 1, 1, 1, 1, 1, 1,\n",
       "         1, 1, 1, 1, 1, 1, 1, 1, 1, 1, 1, 1, 1, 1, 1, 1, 1, 1, 1, 1, 1, 1, 1, 1,\n",
       "         1, 1, 1, 1, 1, 1, 1, 1, 1, 1, 1, 1, 1, 1, 1, 1, 1, 1, 1, 1, 1, 1, 1, 1,\n",
       "         1, 1, 1, 1, 1, 1, 1, 1, 1, 1, 1, 1, 1, 1, 1, 1, 1, 1, 1, 1, 1, 1, 1, 1,\n",
       "         1, 1, 1, 1, 1, 1, 1, 1, 1, 1, 1, 1, 1, 1, 1, 1, 1, 1, 1, 1, 1, 1, 1, 1,\n",
       "         1, 1, 1, 1, 1, 1, 1, 1, 1, 1, 1, 1, 1, 1, 1, 1, 1, 1, 1, 1, 1, 1, 1, 1,\n",
       "         1, 1, 1, 1, 1, 1, 1, 1, 1, 1, 1, 1, 1, 1, 1, 1, 1, 1, 1, 1, 1, 1, 1, 1,\n",
       "         1, 1, 1, 1, 1, 1, 1, 1, 1, 1, 1, 1, 1, 1, 1, 1, 1, 1, 1, 1, 1, 1, 1, 1,\n",
       "         1, 1, 1, 1, 1, 1, 1, 1, 1, 1, 1, 1, 1, 1, 1, 1, 1]])}"
      ]
     },
     "execution_count": 8,
     "metadata": {},
     "output_type": "execute_result"
    }
   ],
   "source": [
    "response_tokens = tokenizer(response_completion, return_tensors=\"pt\")\n",
    "\n",
    "response_tokens"
   ]
  },
  {
   "cell_type": "code",
   "execution_count": 9,
   "id": "543c2da0-0d97-4b83-b179-b90faec48239",
   "metadata": {},
   "outputs": [
    {
     "data": {
      "text/plain": [
       "tensor([     2,  21404, 235269,   1517, 235303, 235256,    573,  10513,    604,\n",
       "          4134, 235292,    109,    688, 235291,    589,    747,    963,    752,\n",
       "           688,    109,   6006, 235292,    109, 235287,   5231, 235291,    688,\n",
       "           603,    573,   4134,    575,  12808,    982,    591, 235338, 235275,\n",
       "           108, 235287,   5231, 235333,    688,    603,    573,  45517,   4134,\n",
       "           575,  12808,    982,    591, 235338, 235275,    108, 235287,   5231,\n",
       "        235327,    688,    603,    573,   5736,   4134,    575,  12808,    982,\n",
       "           591, 235338, 235275,    109,    688, 157488,   4134,    591, 235333,\n",
       "         77056,    603,    573,   4134,    671,   4018,  53043,   1185,    665,\n",
       "         14574,    689,    603,    575,   8252, 235265,   1165,    603,  11985,\n",
       "           685,   3933,    573,   3225,    576,    671,   4018, 235303, 235256,\n",
       "          5182,    591, 235262, 235275,    578,   1277,  13892,    591, 235272,\n",
       "        235275,  43858, 235292,    109,    688, 235333,    589, 235248, 235274,\n",
       "        235283, 235284,  21207, 235393, 235284,    688,    109,    688,  46472,\n",
       "          4134,    591, 235327,  77056,    603,    573,   4134,    671,   4018,\n",
       "         53043,   3402,    577,   1277,   3668,    689,  12199, 235265,   1165,\n",
       "           603,  11985,    685,    573,   3225,    576,    671,   4018, 235303,\n",
       "        235256,   5182, 235269,  70876,   6221,    591, 235264,    823,    578,\n",
       "          5721,    689,   3668,   3131,    476,   6203,   2377, 235265,    109,\n",
       "           688, 235327,    589,    519,    628,    688,    109,   6006, 235292,\n",
       "           109, 235287,   5231, 235262,    688,    603,    573,   5182,    575,\n",
       "         97063,    591,   6482, 235275,    108, 235287,   5231, 235264,    688,\n",
       "           603,    573,  70876,   6221,    591, 235315, 235265, 235321,    519,\n",
       "        235283, 235256, 235393, 235284, 235275,    108, 235287,   5231, 235259,\n",
       "           688,    603,    573,   5721,    689,   3668,    575,  18678,    591,\n",
       "        235262, 235275,    109,    651,  10513,   4918,    674,   4134,    798,\n",
       "           614,  10862,    685,    573,   2707,    576,  45517,    578,   5736,\n",
       "          4134, 235265,    714,  45517,   4134,    603,    476,   4015,    576,\n",
       "           573,   4018, 235303, 235256,   7374,    577,    749,   1160, 235269,\n",
       "          2183,    573,   5736,   4134,    603,    476,   4015,    576,    573,\n",
       "          4018, 235303, 235256,   7374,    577,    749,   1160,   2691,    476,\n",
       "          5097, 235265])"
      ]
     },
     "execution_count": 9,
     "metadata": {},
     "output_type": "execute_result"
    }
   ],
   "source": [
    "response_tokens['input_ids'][0]"
   ]
  },
  {
   "cell_type": "code",
   "execution_count": 10,
   "id": "c503bc54-00fd-4aa3-89df-0c7fce558301",
   "metadata": {},
   "outputs": [
    {
     "name": "stdout",
     "output_type": "stream",
     "text": [
      "<bos>Sure, here's the formula for energy:\n",
      "\n",
      "**E = K + U**\n",
      "\n",
      "Where:\n",
      "\n",
      "* **E** is the energy in joules (J)\n",
      "* **K** is the kinetic energy in joules (J)\n",
      "* **U** is the potential energy in joules (J)\n",
      "\n",
      "**Kinetic energy (K)** is the energy an object possesses when it moves or is in motion. It is calculated as half the product of an object's mass (m) and its velocity (v) squared:\n",
      "\n",
      "**K = 1/2mv^2**\n",
      "\n",
      "**Potential energy (U)** is the energy an object possesses due to its position or configuration. It is calculated as the product of an object's mass, gravitational constant (g), and height or position above a reference point.\n",
      "\n",
      "**U = mgh**\n",
      "\n",
      "Where:\n",
      "\n",
      "* **m** is the mass in kilograms (kg)\n",
      "* **g** is the gravitational constant (9.8 m/s^2)\n",
      "* **h** is the height or position in meters (m)\n",
      "\n",
      "The formula shows that energy can be expressed as the sum of kinetic and potential energy. The kinetic energy is a measure of the object's ability to do work, while the potential energy is a measure of the object's ability to do work against a force.\n"
     ]
    }
   ],
   "source": [
    "print(tokenizer.decode(response_tokens['input_ids'][0]))"
   ]
  },
  {
   "cell_type": "code",
   "execution_count": 11,
   "id": "e5d66707-bbe0-47fa-9df3-427e2a2d3a27",
   "metadata": {},
   "outputs": [
    {
     "data": {
      "text/plain": [
       "\"<bos>Sure, here's the formula for energy:\\n\\n**E = K + U**\\n\\nWhere:\\n\\n* **E** is the energy in joules (J)\\n* **K** is the kinetic energy in joules (J)\\n* **U** is the potential energy in joules (J)\\n\\n**Kinetic energy (K)** is the energy an object possesses when it moves or is in motion. It is calculated as half the product of an object's mass (m) and its velocity (v) squared:\\n\\n**K = 1/2mv^2**\\n\\n**Potential energy (U)** is the energy an object possesses due to its position or configuration. It is calculated as the product of an object's mass, gravitational constant (g), and height or position above a reference point.\\n\\n**U = mgh**\\n\\nWhere:\\n\\n* **m** is the mass in kilograms (kg)\\n* **g** is the gravitational constant (9.8 m/s^2)\\n* **h** is the height or position in meters (m)\\n\\nThe formula shows that energy can be expressed as the sum of kinetic and potential energy. The kinetic energy is a measure of the object's ability to do work, while the potential energy is a measure of the object's ability to do work against a force.\""
      ]
     },
     "execution_count": 11,
     "metadata": {},
     "output_type": "execute_result"
    }
   ],
   "source": [
    "tokenizer.decode(response_tokens['input_ids'][0])"
   ]
  },
  {
   "cell_type": "code",
   "execution_count": 12,
   "id": "4b621bdd-3d37-42a1-af79-a514ebd0af99",
   "metadata": {},
   "outputs": [
    {
     "data": {
      "text/plain": [
       "torch.Size([281])"
      ]
     },
     "execution_count": 12,
     "metadata": {},
     "output_type": "execute_result"
    }
   ],
   "source": [
    "response_tokens['input_ids'][0].shape"
   ]
  },
  {
   "cell_type": "code",
   "execution_count": 13,
   "id": "b628baf5-6d0a-4cea-882e-5c3b9b0bd108",
   "metadata": {},
   "outputs": [
    {
     "data": {
      "text/plain": [
       "281"
      ]
     },
     "execution_count": 13,
     "metadata": {},
     "output_type": "execute_result"
    }
   ],
   "source": [
    "len(response_tokens['input_ids'][0])"
   ]
  },
  {
   "cell_type": "code",
   "execution_count": null,
   "id": "630443f3-939f-4388-9647-a6383485a046",
   "metadata": {},
   "outputs": [],
   "source": []
  }
 ],
 "metadata": {
  "kernelspec": {
   "display_name": "Python 3 (ipykernel)",
   "language": "python",
   "name": "python3"
  },
  "language_info": {
   "codemirror_mode": {
    "name": "ipython",
    "version": 3
   },
   "file_extension": ".py",
   "mimetype": "text/x-python",
   "name": "python",
   "nbconvert_exporter": "python",
   "pygments_lexer": "ipython3",
   "version": "3.10.13"
  }
 },
 "nbformat": 4,
 "nbformat_minor": 5
}
